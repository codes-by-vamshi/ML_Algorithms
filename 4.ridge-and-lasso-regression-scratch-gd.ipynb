{
 "cells": [
  {
   "cell_type": "markdown",
   "metadata": {},
   "source": [
    "# Ridge and Lasso Regression\n",
    "\n",
    "Data - https://drive.google.com/file/d/1ItJT3faKTNi4eZNo3GGnUORDO2_7C6JZ/view?usp=sharing"
   ]
  },
  {
   "cell_type": "markdown",
   "metadata": {},
   "source": [
    "## 1. Ridge and Lasso Regression - Scratch - Using Gradient Descent "
   ]
  },
  {
   "cell_type": "code",
   "execution_count": 1,
   "metadata": {},
   "outputs": [],
   "source": [
    "import numpy as np\n",
    "\n",
    "class RidgeAndLassoRegressionScratchGD:\n",
    "    \n",
    "    def __init__(self, norm = 'L2', alpha = 0.001,iterations = 2000, learning_rate=0.01, option='BatchGD'):\n",
    "        self.coef_ = None\n",
    "        self.intercept_ = None\n",
    "        self.iterations = iterations\n",
    "        self.learning_rate = learning_rate\n",
    "        # norm could be L2 for Ridge and L1 for Lasso\n",
    "        self.norm = norm,\n",
    "        # alpha is the hyper parameter of Regularisation\n",
    "        self.alpha = alpha\n",
    "        # option could be 'BatchGD', 'MiniBatchGD', 'SGD'\n",
    "        self.option = option\n",
    "    \n",
    "    def fit(self,X,y):\n",
    "        X = np.array(X)\n",
    "        y = np.array(y)\n",
    "        weights = np.array([np.random.randn(1)[0] for i in range(len(X[0])+1)])\n",
    "        ## making sure none of weights are 0, replacing them with 0.1\n",
    "        weights = np.where(weights == 0, 0.1, weights)\n",
    "        X = np.array([[1]+list(i) for i in X])\n",
    "        if(self.option == 'MiniBatchGD'):\n",
    "            indices = [np.random.randint(len(X)) for i in range(int(0.1*len(X)))]\n",
    "            X_new = X[indices]\n",
    "            y_new = y[indices]\n",
    "        elif(self.option == 'SGD'):\n",
    "            indices = [np.random.randint(len(X))]\n",
    "            X_new = X[indices]\n",
    "            y_new = y[indices]\n",
    "        else:\n",
    "            X_new = X\n",
    "            y_new = y\n",
    "        y_err = y_new - (weights @ X_new.T)\n",
    "        if(self.norm == 'L1'):\n",
    "            y_err -= self.alpha * sum(np.abs(weights))\n",
    "        else:\n",
    "            y_err -= self.alpha * sum(weights**2)\n",
    "        for i in range(self.iterations):\n",
    "            if(self.norm == 'L1'):\n",
    "                modified_X = np.column_stack([X_new[:, i] + self.alpha if weights[i] > 0 else X_new[:, i] - alpha for i in range(1,len(X_new[0]))])\n",
    "                modified_X = np.array([[1]+list(i) for i in modified_X])\n",
    "            else:\n",
    "                modified_X = np.column_stack([X_new[:, i] + (2*self.alpha*weights[i]) for i in range(1,len(X_new[0]))])\n",
    "                modified_X = np.array([[1]+list(i) for i in modified_X])\n",
    "            weights += (2*self.learning_rate*(y_err @ modified_X))/len(modified_X)\n",
    "            y_err = y_new - (weights @ X_new.T)\n",
    "            if(self.norm == 'L1'):\n",
    "                y_err -= self.alpha * sum(np.abs(weights))\n",
    "            else:\n",
    "                y_err -= self.alpha * sum(weights**2)\n",
    "            if(self.option == 'MiniBatchGD'):\n",
    "                indices = [np.random.randint(len(X)) for i in range(int(0.1*len(X)))]\n",
    "                X_new = X[indices]\n",
    "                y_new = y[indices]\n",
    "            elif(self.option == 'SGD'):\n",
    "                indices = [np.random.randint(len(X))]\n",
    "                X_new = X[indices]\n",
    "                y_new = y[indices]\n",
    "            else:\n",
    "                X_new = X\n",
    "                y_new = y\n",
    "        self.intercept_ = np.array([weights[0]])\n",
    "        self.coef_ = weights[1:]\n",
    "        self.weights = weights\n",
    "    \n",
    "    def predict(self,X):\n",
    "        X = np.array(X)\n",
    "        newX = []\n",
    "        for i in X:\n",
    "            newX.append([1]+list(i))\n",
    "        X = np.array(newX)\n",
    "        return X @ self.weights.T"
   ]
  },
  {
   "cell_type": "code",
   "execution_count": 2,
   "metadata": {},
   "outputs": [
    {
     "data": {
      "text/html": [
       "<div>\n",
       "<style scoped>\n",
       "    .dataframe tbody tr th:only-of-type {\n",
       "        vertical-align: middle;\n",
       "    }\n",
       "\n",
       "    .dataframe tbody tr th {\n",
       "        vertical-align: top;\n",
       "    }\n",
       "\n",
       "    .dataframe thead th {\n",
       "        text-align: right;\n",
       "    }\n",
       "</style>\n",
       "<table border=\"1\" class=\"dataframe\">\n",
       "  <thead>\n",
       "    <tr style=\"text-align: right;\">\n",
       "      <th></th>\n",
       "      <th>cgpa</th>\n",
       "      <th>package</th>\n",
       "    </tr>\n",
       "  </thead>\n",
       "  <tbody>\n",
       "    <tr>\n",
       "      <th>0</th>\n",
       "      <td>6.89</td>\n",
       "      <td>3.26</td>\n",
       "    </tr>\n",
       "    <tr>\n",
       "      <th>1</th>\n",
       "      <td>5.12</td>\n",
       "      <td>1.98</td>\n",
       "    </tr>\n",
       "    <tr>\n",
       "      <th>2</th>\n",
       "      <td>7.82</td>\n",
       "      <td>3.25</td>\n",
       "    </tr>\n",
       "    <tr>\n",
       "      <th>3</th>\n",
       "      <td>7.42</td>\n",
       "      <td>3.67</td>\n",
       "    </tr>\n",
       "    <tr>\n",
       "      <th>4</th>\n",
       "      <td>6.94</td>\n",
       "      <td>3.57</td>\n",
       "    </tr>\n",
       "  </tbody>\n",
       "</table>\n",
       "</div>"
      ],
      "text/plain": [
       "   cgpa  package\n",
       "0  6.89     3.26\n",
       "1  5.12     1.98\n",
       "2  7.82     3.25\n",
       "3  7.42     3.67\n",
       "4  6.94     3.57"
      ]
     },
     "execution_count": 2,
     "metadata": {},
     "output_type": "execute_result"
    }
   ],
   "source": [
    "import pandas as pd\n",
    "link = 'https://drive.google.com/file/d/1ItJT3faKTNi4eZNo3GGnUORDO2_7C6JZ/view?usp=sharing'\n",
    "df = pd.read_csv(f'https://drive.google.com/uc?id={link.split(\"/\")[-2]}')\n",
    "df.head()"
   ]
  },
  {
   "cell_type": "code",
   "execution_count": 3,
   "metadata": {},
   "outputs": [],
   "source": [
    "from sklearn.model_selection import train_test_split\n",
    "X_train, X_test, y_train, y_test = train_test_split(df.drop('package',axis=1),df['package'],test_size=0.2,random_state=42)"
   ]
  },
  {
   "cell_type": "code",
   "execution_count": 4,
   "metadata": {},
   "outputs": [],
   "source": [
    "lasso_scratch_gd = RidgeAndLassoRegressionScratchGD(norm = 'L1', alpha = 0.01, iterations=10000, learning_rate=0.01, option='BatchGD')\n",
    "ridge_scratch_gd = RidgeAndLassoRegressionScratchGD(norm = 'L2', alpha = 0.01, iterations=10000, learning_rate=0.01, option='BatchGD')"
   ]
  },
  {
   "cell_type": "code",
   "execution_count": 5,
   "metadata": {},
   "outputs": [],
   "source": [
    "lasso_scratch_gd.fit(X_train, y_train)\n",
    "ridge_scratch_gd.fit(X_train, y_train)"
   ]
  },
  {
   "cell_type": "code",
   "execution_count": 6,
   "metadata": {},
   "outputs": [
    {
     "name": "stdout",
     "output_type": "stream",
     "text": [
      "Lasso coeff [0.57345137]\n",
      "Ridge coeff [0.57333071]\n"
     ]
    }
   ],
   "source": [
    "print('Lasso coeff',lasso_scratch_gd.coef_)\n",
    "print('Ridge coeff',ridge_scratch_gd.coef_)"
   ]
  },
  {
   "cell_type": "code",
   "execution_count": 7,
   "metadata": {},
   "outputs": [
    {
     "name": "stdout",
     "output_type": "stream",
     "text": [
      "Lasso intercept [-1.03523961]\n",
      "Ridge intercept [-1.03435466]\n"
     ]
    }
   ],
   "source": [
    "print('Lasso intercept',lasso_scratch_gd.intercept_)\n",
    "print('Ridge intercept',ridge_scratch_gd.intercept_)"
   ]
  },
  {
   "cell_type": "code",
   "execution_count": 8,
   "metadata": {},
   "outputs": [],
   "source": [
    "lasso_scratch_gd_preds = lasso_scratch_gd.predict(X_test)\n",
    "ridge_scratch_gd_preds = ridge_scratch_gd.predict(X_test)"
   ]
  },
  {
   "cell_type": "code",
   "execution_count": 9,
   "metadata": {},
   "outputs": [
    {
     "name": "stdout",
     "output_type": "stream",
     "text": [
      "Lasso R2 Score 0.7287460969526806\n",
      "Ridge R2 Score 0.7286673028544517\n"
     ]
    }
   ],
   "source": [
    "from sklearn.metrics import r2_score\n",
    "print(\"Lasso R2 Score\",r2_score(lasso_scratch_gd_preds,y_test))\n",
    "print(\"Ridge R2 Score\",r2_score(ridge_scratch_gd_preds,y_test))"
   ]
  },
  {
   "cell_type": "markdown",
   "metadata": {},
   "source": [
    "## 2. Ridge and Lasso Regression Sklearn Library - Gradient Descent"
   ]
  },
  {
   "cell_type": "code",
   "execution_count": 10,
   "metadata": {},
   "outputs": [],
   "source": [
    "from sklearn.linear_model import Lasso, Ridge"
   ]
  },
  {
   "cell_type": "code",
   "execution_count": 11,
   "metadata": {},
   "outputs": [
    {
     "data": {
      "text/plain": [
       "Lasso(alpha=0.01)"
      ]
     },
     "execution_count": 11,
     "metadata": {},
     "output_type": "execute_result"
    }
   ],
   "source": [
    "ridge_model = Ridge(alpha=0.01)\n",
    "ridge_model.fit(X_train, y_train)\n",
    "\n",
    "lasso_model = Lasso(alpha=0.01)\n",
    "lasso_model.fit(X_train, y_train)"
   ]
  },
  {
   "cell_type": "code",
   "execution_count": 12,
   "metadata": {},
   "outputs": [
    {
     "name": "stdout",
     "output_type": "stream",
     "text": [
      "Lasso coeff [0.56579315]\n",
      "Ridge coeff [0.5742261]\n"
     ]
    }
   ],
   "source": [
    "print('Lasso coeff',lasso_model.coef_)\n",
    "print('Ridge coeff',ridge_model.coef_)"
   ]
  },
  {
   "cell_type": "code",
   "execution_count": 13,
   "metadata": {},
   "outputs": [
    {
     "name": "stdout",
     "output_type": "stream",
     "text": [
      "Lasso intercept -0.967718167048357\n",
      "Ridge intercept -1.0267941552084712\n"
     ]
    }
   ],
   "source": [
    "print('Lasso intercept',lasso_model.intercept_)\n",
    "print('Ridge intercept',ridge_model.intercept_)"
   ]
  },
  {
   "cell_type": "code",
   "execution_count": 14,
   "metadata": {},
   "outputs": [],
   "source": [
    "lasso_model_preds = lasso_model.predict(X_test)\n",
    "ridge_model_preds = ridge_model.predict(X_test)"
   ]
  },
  {
   "cell_type": "code",
   "execution_count": 15,
   "metadata": {},
   "outputs": [
    {
     "name": "stdout",
     "output_type": "stream",
     "text": [
      "Lasso R2 Score 0.7270482374488476\n",
      "Ridge R2 Score 0.7337743970757031\n"
     ]
    }
   ],
   "source": [
    "from sklearn.metrics import r2_score\n",
    "print(\"Lasso R2 Score\",r2_score(lasso_model_preds,y_test))\n",
    "print(\"Ridge R2 Score\",r2_score(ridge_model_preds,y_test))"
   ]
  },
  {
   "cell_type": "code",
   "execution_count": null,
   "metadata": {},
   "outputs": [],
   "source": []
  }
 ],
 "metadata": {
  "kernelspec": {
   "display_name": "Python 3 (ipykernel)",
   "language": "python",
   "name": "python3"
  },
  "language_info": {
   "codemirror_mode": {
    "name": "ipython",
    "version": 3
   },
   "file_extension": ".py",
   "mimetype": "text/x-python",
   "name": "python",
   "nbconvert_exporter": "python",
   "pygments_lexer": "ipython3",
   "version": "3.9.7"
  }
 },
 "nbformat": 4,
 "nbformat_minor": 2
}
