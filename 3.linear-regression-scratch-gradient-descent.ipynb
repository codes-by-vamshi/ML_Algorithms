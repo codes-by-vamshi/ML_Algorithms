{
 "cells": [
  {
   "cell_type": "markdown",
   "metadata": {},
   "source": [
    "# Linear Regression  - Gradient Descent\n",
    "\n",
    "Data - https://drive.google.com/file/d/1ItJT3faKTNi4eZNo3GGnUORDO2_7C6JZ/view?usp=sharing"
   ]
  },
  {
   "cell_type": "markdown",
   "metadata": {},
   "source": [
    "## 1. Linear Regression Scratch - Gradient Descent"
   ]
  },
  {
   "cell_type": "code",
   "execution_count": 1,
   "metadata": {},
   "outputs": [],
   "source": [
    "import numpy as np\n",
    "\n",
    "class LinearRegressionScratchGD:\n",
    "    \n",
    "    def __init__(self, iterations = 2000, learning_rate=0.01, option='BatchGD'):\n",
    "        self.coef_ = None\n",
    "        self.intercept_ = None\n",
    "        self.iterations = iterations\n",
    "        self.learning_rate = learning_rate\n",
    "        # option could be 'BatchGD', 'MiniBatchGD', 'SGD'\n",
    "        self.option = option\n",
    "    \n",
    "    def fit(self,X,y):\n",
    "        X = np.array(X)\n",
    "        y = np.array(y)\n",
    "        weights = np.array([np.random.randn(1)[0] for i in range(len(X[0])+1)])\n",
    "        # Doing 2000 iterations for convergence\n",
    "        X = np.array([[1]+list(i) for i in X])\n",
    "        if(self.option == 'MiniBatchGD'):\n",
    "            indices = [np.random.randint(len(X)) for i in range(int(0.1*len(X)))]\n",
    "            X_new = X[indices]\n",
    "            y_new = y[indices]\n",
    "        elif(self.option == 'SGD'):\n",
    "            indices = [np.random.randint(len(X))]\n",
    "            X_new = X[indices]\n",
    "            y_new = y[indices]\n",
    "        else:\n",
    "            X_new = X\n",
    "            y_new = y\n",
    "        y_err = y_new - (weights @ X_new.T)\n",
    "        for i in range(self.iterations):\n",
    "            weights += (2*self.learning_rate*(y_err @ X_new))/len(X_new)\n",
    "            y_err = y_new - (weights @ X_new.T)\n",
    "            if(self.option == 'MiniBatchGD'):\n",
    "                indices = [np.random.randint(len(X)) for i in range(int(0.1*len(X)))]\n",
    "                X_new = X[indices]\n",
    "                y_new = y[indices]\n",
    "            elif(self.option == 'SGD'):\n",
    "                indices = [np.random.randint(len(X))]\n",
    "                X_new = X[indices]\n",
    "                y_new = y[indices]\n",
    "            else:\n",
    "                X_new = X\n",
    "                y_new = y\n",
    "        self.intercept_ = np.array([weights[0]])\n",
    "        self.coef_ = weights[1:]\n",
    "        self.weights = weights\n",
    "    \n",
    "    def predict(self,X):\n",
    "        X = np.array(X)\n",
    "        newX = []\n",
    "        for i in X:\n",
    "            newX.append([1]+list(i))\n",
    "        X = np.array(newX)\n",
    "        return X @ self.weights.T"
   ]
  },
  {
   "cell_type": "code",
   "execution_count": 2,
   "metadata": {},
   "outputs": [
    {
     "data": {
      "text/html": [
       "<div>\n",
       "<style scoped>\n",
       "    .dataframe tbody tr th:only-of-type {\n",
       "        vertical-align: middle;\n",
       "    }\n",
       "\n",
       "    .dataframe tbody tr th {\n",
       "        vertical-align: top;\n",
       "    }\n",
       "\n",
       "    .dataframe thead th {\n",
       "        text-align: right;\n",
       "    }\n",
       "</style>\n",
       "<table border=\"1\" class=\"dataframe\">\n",
       "  <thead>\n",
       "    <tr style=\"text-align: right;\">\n",
       "      <th></th>\n",
       "      <th>cgpa</th>\n",
       "      <th>package</th>\n",
       "    </tr>\n",
       "  </thead>\n",
       "  <tbody>\n",
       "    <tr>\n",
       "      <th>0</th>\n",
       "      <td>6.89</td>\n",
       "      <td>3.26</td>\n",
       "    </tr>\n",
       "    <tr>\n",
       "      <th>1</th>\n",
       "      <td>5.12</td>\n",
       "      <td>1.98</td>\n",
       "    </tr>\n",
       "    <tr>\n",
       "      <th>2</th>\n",
       "      <td>7.82</td>\n",
       "      <td>3.25</td>\n",
       "    </tr>\n",
       "    <tr>\n",
       "      <th>3</th>\n",
       "      <td>7.42</td>\n",
       "      <td>3.67</td>\n",
       "    </tr>\n",
       "    <tr>\n",
       "      <th>4</th>\n",
       "      <td>6.94</td>\n",
       "      <td>3.57</td>\n",
       "    </tr>\n",
       "  </tbody>\n",
       "</table>\n",
       "</div>"
      ],
      "text/plain": [
       "   cgpa  package\n",
       "0  6.89     3.26\n",
       "1  5.12     1.98\n",
       "2  7.82     3.25\n",
       "3  7.42     3.67\n",
       "4  6.94     3.57"
      ]
     },
     "execution_count": 2,
     "metadata": {},
     "output_type": "execute_result"
    }
   ],
   "source": [
    "import pandas as pd\n",
    "link = 'https://drive.google.com/file/d/1ItJT3faKTNi4eZNo3GGnUORDO2_7C6JZ/view?usp=sharing'\n",
    "df = pd.read_csv(f'https://drive.google.com/uc?id={link.split(\"/\")[-2]}')\n",
    "df.head()"
   ]
  },
  {
   "cell_type": "code",
   "execution_count": 3,
   "metadata": {},
   "outputs": [],
   "source": [
    "from sklearn.model_selection import train_test_split\n",
    "X_train, X_test, y_train, y_test = train_test_split(df.drop('package',axis=1),df['package'],test_size=0.2,random_state=42)"
   ]
  },
  {
   "cell_type": "code",
   "execution_count": 4,
   "metadata": {},
   "outputs": [],
   "source": [
    "lr_scratch_gd = LinearRegressionScratchGD(iterations=20000,learning_rate=0.01,option='BatchGD')"
   ]
  },
  {
   "cell_type": "code",
   "execution_count": 5,
   "metadata": {},
   "outputs": [],
   "source": [
    "lr_scratch_gd.fit(X_train, y_train)"
   ]
  },
  {
   "cell_type": "code",
   "execution_count": 6,
   "metadata": {},
   "outputs": [
    {
     "data": {
      "text/plain": [
       "array([0.57423909])"
      ]
     },
     "execution_count": 6,
     "metadata": {},
     "output_type": "execute_result"
    }
   ],
   "source": [
    "lr_scratch_gd.coef_"
   ]
  },
  {
   "cell_type": "code",
   "execution_count": 7,
   "metadata": {},
   "outputs": [
    {
     "data": {
      "text/plain": [
       "array([-1.02688228])"
      ]
     },
     "execution_count": 7,
     "metadata": {},
     "output_type": "execute_result"
    }
   ],
   "source": [
    "lr_scratch_gd.intercept_"
   ]
  },
  {
   "cell_type": "code",
   "execution_count": 8,
   "metadata": {},
   "outputs": [],
   "source": [
    "lr_scratch_gd_preds = lr_scratch_gd.predict(X_test)"
   ]
  },
  {
   "cell_type": "code",
   "execution_count": 9,
   "metadata": {},
   "outputs": [
    {
     "data": {
      "text/plain": [
       "0.7337850020750591"
      ]
     },
     "execution_count": 9,
     "metadata": {},
     "output_type": "execute_result"
    }
   ],
   "source": [
    "from sklearn.metrics import r2_score\n",
    "r2_score(lr_scratch_gd_preds,y_test)"
   ]
  },
  {
   "cell_type": "markdown",
   "metadata": {},
   "source": [
    "## 2. Linear Regression Sklearn Library - Gradient Descent"
   ]
  },
  {
   "cell_type": "code",
   "execution_count": 10,
   "metadata": {},
   "outputs": [],
   "source": [
    "from sklearn.linear_model import SGDRegressor"
   ]
  },
  {
   "cell_type": "code",
   "execution_count": 11,
   "metadata": {},
   "outputs": [],
   "source": [
    "sgd_regressor = SGDRegressor(learning_rate='constant', eta0=0.01)"
   ]
  },
  {
   "cell_type": "code",
   "execution_count": 12,
   "metadata": {},
   "outputs": [
    {
     "data": {
      "text/plain": [
       "SGDRegressor(learning_rate='constant')"
      ]
     },
     "execution_count": 12,
     "metadata": {},
     "output_type": "execute_result"
    }
   ],
   "source": [
    "sgd_regressor.fit(X_train, y_train)"
   ]
  },
  {
   "cell_type": "code",
   "execution_count": 13,
   "metadata": {},
   "outputs": [
    {
     "data": {
      "text/plain": [
       "array([0.43100204])"
      ]
     },
     "execution_count": 13,
     "metadata": {},
     "output_type": "execute_result"
    }
   ],
   "source": [
    "sgd_regressor.coef_"
   ]
  },
  {
   "cell_type": "code",
   "execution_count": 14,
   "metadata": {},
   "outputs": [
    {
     "data": {
      "text/plain": [
       "array([-0.18296192])"
      ]
     },
     "execution_count": 14,
     "metadata": {},
     "output_type": "execute_result"
    }
   ],
   "source": [
    "sgd_regressor.intercept_"
   ]
  },
  {
   "cell_type": "code",
   "execution_count": 15,
   "metadata": {},
   "outputs": [],
   "source": [
    "sgd_regressor_preds = sgd_regressor.predict(X_test)"
   ]
  },
  {
   "cell_type": "code",
   "execution_count": 16,
   "metadata": {},
   "outputs": [
    {
     "data": {
      "text/plain": [
       "0.2582458515724062"
      ]
     },
     "execution_count": 16,
     "metadata": {},
     "output_type": "execute_result"
    }
   ],
   "source": [
    "from sklearn.metrics import r2_score\n",
    "r2_score(sgd_regressor_preds,y_test)"
   ]
  },
  {
   "cell_type": "code",
   "execution_count": null,
   "metadata": {},
   "outputs": [],
   "source": []
  }
 ],
 "metadata": {
  "kernelspec": {
   "display_name": "Python 3 (ipykernel)",
   "language": "python",
   "name": "python3"
  },
  "language_info": {
   "codemirror_mode": {
    "name": "ipython",
    "version": 3
   },
   "file_extension": ".py",
   "mimetype": "text/x-python",
   "name": "python",
   "nbconvert_exporter": "python",
   "pygments_lexer": "ipython3",
   "version": "3.9.7"
  }
 },
 "nbformat": 4,
 "nbformat_minor": 2
}
